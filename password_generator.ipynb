{
 "cells": [
  {
   "cell_type": "code",
   "execution_count": 1,
   "id": "9fb6147d",
   "metadata": {},
   "outputs": [
    {
     "name": "stdout",
     "output_type": "stream",
     "text": [
      "How many characters do you want in your password? 12\n",
      "lU4w~rcKW9?Q\n"
     ]
    }
   ],
   "source": [
    "\n",
    "import string\n",
    "import random\n",
    "\n",
    "\n",
    "# store all characters in lists \n",
    "s1 = list(string.ascii_lowercase)\n",
    "s2 = list(string.ascii_uppercase)\n",
    "s3 = list(string.digits)\n",
    "s4 = list(string.punctuation)\n",
    "\n",
    "user_input = input(\"How many characters do you want in your password? \")\n",
    "\n",
    "while True:\n",
    "\n",
    "    try:\n",
    "\n",
    "        characters_number = int(user_input)\n",
    "\n",
    "        if characters_number < 8:\n",
    "\n",
    "            print(\"Your number should be at least 8.\")\n",
    "\n",
    "            user_input = input(\"Please, Enter your number again: \")\n",
    "\n",
    "        else:\n",
    "\n",
    "            break\n",
    "\n",
    "    except:\n",
    "\n",
    "        print(\"Please, Enter numbers only.\")\n",
    "\n",
    "        user_input = input(\"How many characters do you want in your password? \")\n",
    "\n",
    "\n",
    "# shuffle all lists\n",
    "random.shuffle(s1)\n",
    "random.shuffle(s2)\n",
    "random.shuffle(s3)\n",
    "random.shuffle(s4)\n",
    "\n",
    "\n",
    "# calculate 30% & 20% of number of characters\n",
    "part1 = round(characters_number * (30/100))\n",
    "part2 = round(characters_number * (20/100))\n",
    "\n",
    "\n",
    "# generation of the password (60% letters and 40% digits & punctuations)\n",
    "result = []\n",
    "\n",
    "for x in range(part1):\n",
    "\n",
    "    result.append(s1[x])\n",
    "    result.append(s2[x])\n",
    "\n",
    "for x in range(part2):\n",
    "\n",
    "    result.append(s3[x])\n",
    "    result.append(s4[x])\n",
    "\n",
    "\n",
    "# shuffle result\n",
    "random.shuffle(result)\n",
    "#join\n",
    "password = \"\".join(result)\n",
    "print(password)"
   ]
  },
  {
   "cell_type": "code",
   "execution_count": null,
   "id": "59d49cfe",
   "metadata": {},
   "outputs": [],
   "source": []
  }
 ],
 "metadata": {
  "kernelspec": {
   "display_name": "Python 3 (ipykernel)",
   "language": "python",
   "name": "python3"
  },
  "language_info": {
   "codemirror_mode": {
    "name": "ipython",
    "version": 3
   },
   "file_extension": ".py",
   "mimetype": "text/x-python",
   "name": "python",
   "nbconvert_exporter": "python",
   "pygments_lexer": "ipython3",
   "version": "3.11.4"
  }
 },
 "nbformat": 4,
 "nbformat_minor": 5
}
